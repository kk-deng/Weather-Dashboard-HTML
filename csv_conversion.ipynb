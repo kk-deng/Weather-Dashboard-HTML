{
 "metadata": {
  "language_info": {
   "codemirror_mode": {
    "name": "ipython",
    "version": 3
   },
   "file_extension": ".py",
   "mimetype": "text/x-python",
   "name": "python",
   "nbconvert_exporter": "python",
   "pygments_lexer": "ipython3",
   "version": "3.7.9-final"
  },
  "orig_nbformat": 2,
  "kernelspec": {
   "name": "python3",
   "display_name": "Python 3"
  }
 },
 "nbformat": 4,
 "nbformat_minor": 2,
 "cells": [
  {
   "source": [
    "# CSV Conversion\n",
    "\n",
    "## This notebook converts the cities.csv file in /Resources to a html with table formart."
   ],
   "cell_type": "markdown",
   "metadata": {}
  },
  {
   "cell_type": "code",
   "execution_count": 1,
   "metadata": {},
   "outputs": [],
   "source": [
    "# Import dependency\n",
    "import pandas as pd"
   ]
  },
  {
   "cell_type": "code",
   "execution_count": 2,
   "metadata": {},
   "outputs": [
    {
     "output_type": "execute_result",
     "data": {
      "text/plain": [
       "<bound method DataFrame.info of      City_ID          City  Cloudiness Country        Date  Humidity    Lat  \\\n",
       "0          0  jacareacanga           0      BR  1528902000        62  -6.22   \n",
       "1          1    kaitangata         100      NZ  1528905304        94 -46.28   \n",
       "2          2      goulburn          20      AU  1528905078        91 -34.75   \n",
       "3          3          lata          76      IN  1528905305        89  30.78   \n",
       "4          4    chokurdakh           0      RU  1528905306        88  70.62   \n",
       "..       ...           ...         ...     ...         ...       ...    ...   \n",
       "542      542        scalea          36      IT  1528905631       100  39.82   \n",
       "543      543    san andres          68      PH  1528905632       100  13.32   \n",
       "544      544        muisne          92      EC  1528905633        84   0.61   \n",
       "545      545           ati          20      TD  1528905633        25  13.21   \n",
       "546      546      san luis           0      AR  1528905472        53 -33.30   \n",
       "\n",
       "        Lng  Max Temp  Wind Speed  \n",
       "0    -57.76     89.60        6.93  \n",
       "1    169.85     42.61        5.64  \n",
       "2    149.72     44.32       10.11  \n",
       "3     78.62     59.89        0.94  \n",
       "4    147.90     32.17        2.95  \n",
       "..      ...       ...         ...  \n",
       "542   15.79     70.06        5.30  \n",
       "543  122.68     83.47       22.64  \n",
       "544  -80.02     76.90        4.63  \n",
       "545   18.34    104.53        4.97  \n",
       "546  -66.34     42.43        2.62  \n",
       "\n",
       "[547 rows x 10 columns]>"
      ]
     },
     "metadata": {},
     "execution_count": 2
    }
   ],
   "source": [
    "file_path = \"Resources/cities.csv\"\n",
    "cities = pd.read_csv(file_path)\n",
    "df = pd.DataFrame(cities)\n",
    "df.info"
   ]
  },
  {
   "cell_type": "code",
   "execution_count": 3,
   "metadata": {},
   "outputs": [],
   "source": [
    "# Convert to html file\n",
    "output = cities.to_html(\"Resources/cities_output.html\", index=False)"
   ]
  }
 ]
}